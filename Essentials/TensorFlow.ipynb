{
 "cells": [
  {
   "cell_type": "code",
   "execution_count": 103,
   "metadata": {},
   "outputs": [
    {
     "name": "stdout",
     "output_type": "stream",
     "text": [
      "tf.Tensor([1 2 3 4], shape=(4,), dtype=int32)\n",
      "[1 2 3 4]\n",
      "tf.Tensor(\n",
      "[[1 2 3]\n",
      " [4 5 6]], shape=(2, 3), dtype=int32)\n",
      "<tf.Variable 'Variable:0' shape=(2, 3) dtype=int32, numpy=\n",
      "array([[ 1,  2,  3],\n",
      "       [23, 32,  4]])>\n",
      "<tf.Variable 'Variable:0' shape=(2, 3) dtype=int32, numpy=\n",
      "array([[10,  2,  3],\n",
      "       [23, 32,  4]])>\n",
      "<tf.Variable 'Variable:0' shape=(2, 3) dtype=int32, numpy=\n",
      "array([[10,  2,  3],\n",
      "       [23, 32,  4]])>\n"
     ]
    }
   ],
   "source": [
    "import tensorflow as tf\n",
    "import numpy as np\n",
    "# what is a tensor? - A tensor is a data structure which is like an array which can be multidimensional.\n",
    "# rank of tensor corresponds to the number of dimensions it has, for ex: a scalar has 0 dimensions, a vector has 1 dimension, and a matrix has two dimensions\n",
    "\n",
    "tensor_1d = tf.constant([1, 2, 3, 4])\n",
    "print(tensor_1d)\n",
    "tensor_numpy = tensor_1d.numpy()  # converts the tensor to numpy array by creating it's another copy of numpy array\n",
    "print(tensor_numpy)\n",
    "\n",
    "tensor_2d = tf.constant([[1, 2, 3], [4, 5, 6]])\n",
    "print(tensor_2d)\n",
    "\n",
    "# variable tensor\n",
    "variable_tensor = tf.Variable([[1, 2, 3], [23, 32, 4]]) # this creates a variable tensor\n",
    "print(variable_tensor)\n",
    "variable_tensor[0, 0].assign(10) # assigning a value at a position\n",
    "print(variable_tensor)\n",
    "\n",
    "\n",
    "sum_tensor = tf.concat([variable_tensor, tf.constant([[3,4,5]])], axis = 0)\n",
    "print(sum_tensor) # adding two tensors\n",
    "\n",
    "# 1D tensor of zeros\n",
    "zeros_tensor = tf.zeros(shape=(3,))\n",
    "# 2D tensor of ones\n",
    "ones_tensor = tf.ones(shape=(2, 3))\n",
    "# Random 1D tensor\n",
    "random_tensor = tf.random.normal(shape=(3,))\n",
    "# Random 2D tensor\n",
    "random_matrix = tf.random.uniform(shape=(2, 3))"
   ]
  },
  {
   "cell_type": "code",
   "execution_count": 81,
   "metadata": {},
   "outputs": [
    {
     "name": "stdout",
     "output_type": "stream",
     "text": [
      "[array([[1.036976]], dtype=float32), array([0.], dtype=float32)]\n",
      "[array([[0.]], dtype=float32), array([0.], dtype=float32)]\n"
     ]
    }
   ],
   "source": [
    "# Layers\n",
    "\"\"\"\n",
    "forming a linear layer\n",
    "One layer of a dense layer connects to every node of the previous layer\n",
    "\n",
    "units: Integer, the number of neurons or nodes in the layer. This parameter determines the dimensionality of the output space.\n",
    "\n",
    "activation: Activation function applied to the layer's output. If not specified (default is None), no activation function is applied (i.e., \"linear\" activation).\n",
    "\n",
    "use_bias: Boolean, whether to include bias parameters in the layer. Bias is an additional learnable parameter that allows the layer to have an offset.\n",
    "\n",
    "kernel_initializer: Initializer for the weight matrix (also called kernel). It specifies the method for initializing the weights of the layer. Common choices include 'glorot_uniform', 'glorot_normal', 'he_uniform', 'he_normal', etc.\n",
    "\n",
    "bias_initializer: Initializer for the bias vector. It determines the method for initializing the bias values. Common choices include 'zeros', 'ones', 'constant', etc.\n",
    "\"\"\"\n",
    "\n",
    "a = tf.keras.layers.Dense(units=1, activation=None, use_bias=True, kernel_initializer='glorot_uniform', bias_initializer='zeros')\n",
    "\n",
    "# after definition the layer is not built immediately (weights aren't initilized, or variables are not instantiated)\n",
    "# it built when input shape is instaitiated using build function\n",
    "# for layer to be built, we must either use a.build, or pass some tensor where model takes the input shape of the tensor\n",
    "\n",
    "a.build(input_shape = (1, 1))  \n",
    "\n",
    "a1 = a(np.array([[0]]))\n",
    "\n",
    "print(a.get_weights())  \n",
    "\n",
    "# set_weights takes a list of numpy arrays, where first argument in the list is the initilizer for weights (kernel) and second one is for bias\n",
    "a.set_weights([np.array([[0]]), np.array([0])])  # here we have give a array of weights for kernel, and for bias\n",
    "\n",
    "w = a.get_weights()\n",
    "print(w)\n"
   ]
  },
  {
   "cell_type": "code",
   "execution_count": 82,
   "metadata": {},
   "outputs": [
    {
     "name": "stdout",
     "output_type": "stream",
     "text": [
      "[array([[0.1539675]], dtype=float32), array([0.], dtype=float32)]\n",
      "Model: \"sequential_4\"\n",
      "_________________________________________________________________\n",
      " Layer (type)                Output Shape              Param #   \n",
      "=================================================================\n",
      " L1 (Dense)                  (None, 1)                 2         \n",
      "                                                                 \n",
      "=================================================================\n",
      "Total params: 2 (8.00 Byte)\n",
      "Trainable params: 2 (8.00 Byte)\n",
      "Non-trainable params: 0 (0.00 Byte)\n",
      "_________________________________________________________________\n"
     ]
    },
    {
     "name": "stdout",
     "output_type": "stream",
     "text": [
      "1/1 [==============================] - 0s 54ms/step\n"
     ]
    },
    {
     "data": {
      "text/plain": [
       "array([[0.5]], dtype=float32)"
      ]
     },
     "execution_count": 82,
     "metadata": {},
     "output_type": "execute_result"
    }
   ],
   "source": [
    "# model definition\n",
    "\n",
    "\"\"\"\n",
    "A Sequential model is appropriate for a plain stack of layers where each layer has exactly one input tensor and one output tensor.\n",
    "\"\"\"\n",
    "model = tf.keras.Sequential(\n",
    "\t[\n",
    "\t\t# name is used to name the model\n",
    "\t\ttf.keras.layers.Dense(1, input_dim=1,  activation = 'sigmoid', name='L1')\n",
    "\t]\n",
    ")\n",
    "\n",
    "layer = model.get_layer('L1') # get_layer() function is used to get the reference to a existing layer, in case if we want to modify it\n",
    "print(layer.get_weights())\n",
    "\n",
    "# model.summary() shows the layers and number of parameters in the model\n",
    "model.summary()\n",
    "\n",
    "model.predict(np.array([0])) # predict() function is used to run inference on the model"
   ]
  }
 ],
 "metadata": {
  "kernelspec": {
   "display_name": "Python 3",
   "language": "python",
   "name": "python3"
  },
  "language_info": {
   "codemirror_mode": {
    "name": "ipython",
    "version": 3
   },
   "file_extension": ".py",
   "mimetype": "text/x-python",
   "name": "python",
   "nbconvert_exporter": "python",
   "pygments_lexer": "ipython3",
   "version": "3.10.1"
  }
 },
 "nbformat": 4,
 "nbformat_minor": 2
}
