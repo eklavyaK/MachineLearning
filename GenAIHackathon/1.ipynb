{
 "cells": [
  {
   "cell_type": "code",
   "execution_count": 14,
   "metadata": {},
   "outputs": [
    {
     "name": "stdout",
     "output_type": "stream",
     "text": [
      "Prompt : A cartoon type black and white sketch. A man fighting with a monkey in a chaotic jungle setting.\n"
     ]
    }
   ],
   "source": [
    "import openai as OpenAI\n",
    "from dotenv import load_dotenv\n",
    "load_dotenv()\n",
    "def get_completion(prompt, model=\"gpt-3.5-turbo\"):\n",
    "\tmessages = [{\"role\": \"user\", \"content\": prompt}]\n",
    "\tresponse = OpenAI.chat.completions.create(model = model, messages = messages, temperature=0,)\n",
    "\treturn response.choices[0].message.content\n",
    "\n",
    "while True:\n",
    "\tprompt = input(\"Enter 'e' to exit: \")\n",
    "\tif prompt == 'e': break\n",
    "\tmessage = f\"I want to generate an image. The image should describe a part of a story. You have to generate the prompt which is to be fed to a stable diffusion model to generate the image. The prompt shouldn't be more than 50 tokens. Create the prompt for the scenario. Always include \\\"A cartoon type black and white sketch,\\\" at the start of every prompt. The part of the story is: \\n\\nA cartoon type black and white sketch. {prompt}\"\n",
    "\tprint(\"Prompt :\", get_completion(message))"
   ]
  }
 ],
 "metadata": {
  "kernelspec": {
   "display_name": "Python 3",
   "language": "python",
   "name": "python3"
  },
  "language_info": {
   "codemirror_mode": {
    "name": "ipython",
    "version": 3
   },
   "file_extension": ".py",
   "mimetype": "text/x-python",
   "name": "python",
   "nbconvert_exporter": "python",
   "pygments_lexer": "ipython3",
   "version": "3.10.1"
  }
 },
 "nbformat": 4,
 "nbformat_minor": 2
}
